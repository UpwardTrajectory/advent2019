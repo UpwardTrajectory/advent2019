{
 "cells": [
  {
   "cell_type": "markdown",
   "metadata": {},
   "source": [
    "# --- Day 4: Secure Container ---\n",
    "You arrive at the Venus fuel depot only to discover it's protected by a password. The Elves had written the password on a sticky note, but someone threw it out.\n",
    "\n",
    "However, they do remember a few key facts about the password:\n",
    "\n",
    "It is a six-digit number.\n",
    "The value is within the range given in your puzzle input.\n",
    "Two adjacent digits are the same (like 22 in 122345).\n",
    "Going from left to right, the digits never decrease; they only ever increase or stay the same (like 111123 or 135679).\n",
    "Other than the range rule, the following are true:\n",
    "\n",
    "111111 meets these criteria (double 11, never decreases).\n",
    "223450 does not meet these criteria (decreasing pair of digits 50).\n",
    "123789 does not meet these criteria (no double).\n",
    "How many different passwords within the range given in your puzzle input meet these criteria?"
   ]
  },
  {
   "cell_type": "code",
   "execution_count": 1,
   "metadata": {},
   "outputs": [],
   "source": [
    "# No file in `../data` today since the inputs are simply 2 numbers\n",
    "start = 168630\n",
    "stop = 718098\n",
    "\n",
    "tests = {\n",
    "    111111: True, \n",
    "    223450: False, \n",
    "    123789: False\n",
    "}"
   ]
  },
  {
   "cell_type": "code",
   "execution_count": 2,
   "metadata": {},
   "outputs": [],
   "source": [
    "from collections import Counter\n",
    "\n",
    "\n",
    "def password_check(num, exact_two_adj=False):       \n",
    "    digits = [int(i) for i in str(num)]\n",
    "    prev = digits[0]\n",
    "\n",
    "    for i in digits[1:]:\n",
    "        if i < prev: # Always ascending\n",
    "            return False\n",
    "        prev = i\n",
    "        \n",
    "    counted = Counter(digits)\n",
    "    \n",
    "    if exact_two_adj:\n",
    "        return any(x == 2 for x in counted.values())\n",
    "    if not exact_two_adj:\n",
    "        return any(x > 1 for x in counted.values())"
   ]
  },
  {
   "cell_type": "code",
   "execution_count": 3,
   "metadata": {},
   "outputs": [
    {
     "name": "stdout",
     "output_type": "stream",
     "text": [
      "All tests passed.\n"
     ]
    }
   ],
   "source": [
    "def run_tests(tests=tests, exact_two_adj=False):\n",
    "    \"\"\"tests is a dictionary {input_int: bool}\n",
    "    exact_two_adj is passed through to the other functions\n",
    "    \"\"\"\n",
    "    for x in tests:\n",
    "        pred = password_check(x, exact_two_adj)\n",
    "        assert pred == tests[x], \\\n",
    "            f\"{x} failed, checker said {pred} but it was {tests[x]}.\"\n",
    "    print('All tests passed.')\n",
    "    \n",
    "    \n",
    "run_tests()"
   ]
  },
  {
   "cell_type": "code",
   "execution_count": 4,
   "metadata": {},
   "outputs": [
    {
     "data": {
      "text/plain": [
       "1686"
      ]
     },
     "execution_count": 4,
     "metadata": {},
     "output_type": "execute_result"
    }
   ],
   "source": [
    "def password_counter(start, stop, tally=0, exact_two_adj=False):\n",
    "    \"\"\"Count the number of valid passwords between [start, stop]\"\"\"\n",
    "    for num in range(start, stop + 1):\n",
    "        if password_check(num, exact_two_adj):\n",
    "            tally += 1\n",
    "            \n",
    "    return tally\n",
    "\n",
    "password_counter(start, stop)  # 1686"
   ]
  },
  {
   "cell_type": "markdown",
   "metadata": {},
   "source": [
    "### --- Part Two ---\n",
    "An Elf just remembered one more important detail: the two adjacent matching digits are not part of a larger group of matching digits.\n",
    "\n",
    "Given this additional criterion, but still ignoring the range rule, the following are now true:\n",
    "\n",
    "112233 meets these criteria because the digits never decrease and all repeated digits are exactly two digits long.\n",
    "123444 no longer meets the criteria (the repeated 44 is part of a larger group of 444).\n",
    "111122 meets the criteria (even though 1 is repeated more than twice, it still contains a double 22).\n",
    "How many different passwords within the range given in your puzzle input meet all of the criteria?"
   ]
  },
  {
   "cell_type": "code",
   "execution_count": 5,
   "metadata": {},
   "outputs": [
    {
     "name": "stdout",
     "output_type": "stream",
     "text": [
      "All tests passed.\n"
     ]
    }
   ],
   "source": [
    "tests2 = {\n",
    "    994321: False,\n",
    "    112233: True,\n",
    "    123444: False,\n",
    "    111122: True, \n",
    "    188899: True,\n",
    "    225555: True\n",
    "}\n",
    "\n",
    "run_tests(tests2, exact_two_adj=True)"
   ]
  },
  {
   "cell_type": "code",
   "execution_count": 6,
   "metadata": {},
   "outputs": [
    {
     "data": {
      "text/plain": [
       "1145"
      ]
     },
     "execution_count": 6,
     "metadata": {},
     "output_type": "execute_result"
    }
   ],
   "source": [
    "password_counter(start, stop, exact_two_adj=True)  # 1145"
   ]
  }
 ],
 "metadata": {
  "kernelspec": {
   "display_name": "Python 3",
   "language": "python",
   "name": "python3"
  },
  "language_info": {
   "codemirror_mode": {
    "name": "ipython",
    "version": 3
   },
   "file_extension": ".py",
   "mimetype": "text/x-python",
   "name": "python",
   "nbconvert_exporter": "python",
   "pygments_lexer": "ipython3",
   "version": "3.7.5"
  }
 },
 "nbformat": 4,
 "nbformat_minor": 4
}
