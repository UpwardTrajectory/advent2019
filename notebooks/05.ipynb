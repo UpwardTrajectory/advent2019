{
 "cells": [
  {
   "cell_type": "markdown",
   "metadata": {},
   "source": [
    "# --- Day 5: Sunny with a Chance of Asteroids ---\n",
    "You're starting to sweat as the ship makes its way toward Mercury. The Elves suggest that you get the air conditioner working by upgrading your ship computer to support the Thermal Environment Supervision Terminal.\n",
    "\n",
    "The Thermal Environment Supervision Terminal (TEST) starts by running a diagnostic program (your puzzle input). The TEST diagnostic program will run on your existing Intcode computer after a few modifications:\n",
    "\n",
    "First, you'll need to add two new instructions:\n",
    "\n",
    " * Opcode 3 takes a single integer as input and saves it to the position given by its only parameter. For example, the instruction 3,50 would take an input value and store it at address 50.\n",
    " * Opcode 4 outputs the value of its only parameter. For example, the instruction 4,50 would output the value at address 50.\n",
    "Programs that use these instructions will come with documentation that explains what should be connected to the input and output. The program 3,0,4,0,99 outputs whatever it gets as input, then halts.\n",
    "\n",
    "Second, you'll need to add support for parameter modes:\n",
    "\n",
    "Each parameter of an instruction is handled based on its parameter mode. Right now, your ship computer already understands parameter mode 0, position mode, which causes the parameter to be interpreted as a position - if the parameter is 50, its value is the value stored at address 50 in memory. Until now, all parameters have been in position mode.\n",
    "\n",
    "Now, your ship computer will also need to handle parameters in mode 1, immediate mode. In immediate mode, a parameter is interpreted as a value - if the parameter is 50, its value is simply 50.\n",
    "\n",
    "Parameter modes are stored in the same value as the instruction's opcode. The opcode is a two-digit number based only on the ones and tens digit of the value, that is, the opcode is the rightmost two digits of the first value in an instruction. Parameter modes are single digits, one per parameter, read right-to-left from the opcode: the first parameter's mode is in the hundreds digit, the second parameter's mode is in the thousands digit, the third parameter's mode is in the ten-thousands digit, and so on. Any missing modes are 0."
   ]
  },
  {
   "cell_type": "code",
   "execution_count": null,
   "metadata": {},
   "outputs": [],
   "source": [
    "%load_ext autoreload\n",
    "%autoreload 2"
   ]
  },
  {
   "cell_type": "markdown",
   "metadata": {},
   "source": [
    "This next bit is just to wrap my brain around the complicated instructions. The functions aren't actually manipulating in a programatic way, but are simply a logic-check."
   ]
  },
  {
   "cell_type": "code",
   "execution_count": null,
   "metadata": {},
   "outputs": [],
   "source": [
    "orig_ic = [10002, 5, 8, 2, 1001, 5, 8, 7, 3, 3, 104, 7, 99]\n",
    "\n",
    "def first_op(ic):\n",
    "    \"\"\" code = [10002, 5, 8, 2] \"\"\" \n",
    "    ic[2] = ic[5] * ic[8]\n",
    "    return ic\n",
    "\n",
    "def second_op(ic):\n",
    "    \"\"\" code = [1001, 5, 8, 7] \"\"\"\n",
    "    ic[ic[7]] = ic[5] + 8\n",
    "    return ic\n",
    "\n",
    "def third_op(ic):\n",
    "    \"\"\" code = [3, 3] \n",
    "    in this case, please only input 1\"\"\"\n",
    "    ic[3] = int(input(\"  ---  Press <1>, then <enter>  ---  \"))\n",
    "    return ic\n",
    "\n",
    "def fourth_op(ic):\n",
    "    \"\"\" code = [104, 7] \n",
    "    mode = 1 (immediate)\n",
    "    \"\"\"\n",
    "    print(\"  ---  OUTPUT  ---  \", 7)\n",
    "    return ic\n",
    "\n",
    "def fifth_op(ic):\n",
    "    \"\"\" code = [99] \"\"\"\n",
    "    print('Program Halting')\n",
    "    return ic\n",
    "\n",
    "\n",
    "ic1 = first_op(orig_ic)\n",
    "# [10002, 5, 8, 2]  \n",
    "# multiply ic[5] * ic[8] -> overwrite ic[2]\n",
    "print(ic1)\n",
    "assert ic1 == [10002, 5, 15, 2, 1001, 5, 8, 7, 3, 3, 104, 7, 99], \"1st\"\n",
    "\n",
    "ic2 = second_op(ic1)\n",
    "# [int('01001'), 5, 8, 7]   \n",
    "# add ic[5] + 8 -> overwrite at ic[ic[7]]\n",
    "print(ic2)\n",
    "assert ic2 == [10002, 5, 15, 2, 1001, 5, 8, 13, 3, 3, 104, 7, 99], '2nd'\n",
    "\n",
    "ic3 = third_op(ic2)\n",
    "# [int('00003'), 3]  \n",
    "# take 'an input' and overwrite ic[3]\n",
    "print(ic3)\n",
    "assert ic3 == [10002, 5, 15, 1, 1001, 5, 8, 13, 3, 3, 104, 7, 99], '3rd'\n",
    "\n",
    "ic4 = fourth_op(ic3)\n",
    "# [10104, 7]  \n",
    "# output ic[7]\n",
    "print(ic4)\n",
    "assert ic4 == [10002, 5, 15, 1, 1001, 5, 8, 13, 3, 3, 104, 7, 99], '4th'\n",
    "\n",
    "fifth_op(ic4);"
   ]
  },
  {
   "cell_type": "code",
   "execution_count": 1,
   "metadata": {},
   "outputs": [],
   "source": [
    "from advent import run"
   ]
  },
  {
   "cell_type": "code",
   "execution_count": 2,
   "metadata": {},
   "outputs": [
    {
     "name": "stdout",
     "output_type": "stream",
     "text": [
      "all tests passed\n"
     ]
    }
   ],
   "source": [
    "assert run([1,0,0,0,99]) == [2,0,0,0,99]\n",
    "assert run([2,3,0,3,99]) == [2,3,0,6,99]\n",
    "assert run([2,4,4,5,99,0]) == [2,4,4,5,99,9801]\n",
    "assert run([1,1,1,4,99,5,6,0,99]) == [30,1,1,4,2,5,6,0,99]\n",
    "assert run([1,9,10,3,2,3,11,0,99,30,40,50]) == [3500,9,10,70,2,3,11,0,99,30,40,50]\n",
    "print('all tests passed')"
   ]
  },
  {
   "cell_type": "code",
   "execution_count": 3,
   "metadata": {},
   "outputs": [],
   "source": [
    "intcode = [3,225,1,225,6,6,1100,1,238,225,104,0,1101,37,61,225,101,34,121,224,1001,224,-49,224,4,224,102,8,223,223,1001,224,6,224,1,224,223,223,1101,67,29,225,1,14,65,224,101,-124,224,224,4,224,1002,223,8,223,101,5,224,224,1,224,223,223,1102,63,20,225,1102,27,15,225,1102,18,79,224,101,-1422,224,224,4,224,102,8,223,223,1001,224,1,224,1,223,224,223,1102,20,44,225,1001,69,5,224,101,-32,224,224,4,224,1002,223,8,223,101,1,224,224,1,223,224,223,1102,15,10,225,1101,6,70,225,102,86,40,224,101,-2494,224,224,4,224,1002,223,8,223,101,6,224,224,1,223,224,223,1102,25,15,225,1101,40,67,224,1001,224,-107,224,4,224,102,8,223,223,101,1,224,224,1,223,224,223,2,126,95,224,101,-1400,224,224,4,224,1002,223,8,223,1001,224,3,224,1,223,224,223,1002,151,84,224,101,-2100,224,224,4,224,102,8,223,223,101,6,224,224,1,224,223,223,4,223,99,0,0,0,677,0,0,0,0,0,0,0,0,0,0,0,1105,0,99999,1105,227,247,1105,1,99999,1005,227,99999,1005,0,256,1105,1,99999,1106,227,99999,1106,0,265,1105,1,99999,1006,0,99999,1006,227,274,1105,1,99999,1105,1,280,1105,1,99999,1,225,225,225,1101,294,0,0,105,1,0,1105,1,99999,1106,0,300,1105,1,99999,1,225,225,225,1101,314,0,0,106,0,0,1105,1,99999,108,677,677,224,1002,223,2,223,1006,224,329,101,1,223,223,1107,677,226,224,102,2,223,223,1006,224,344,101,1,223,223,8,677,677,224,1002,223,2,223,1006,224,359,101,1,223,223,1008,677,677,224,1002,223,2,223,1006,224,374,101,1,223,223,7,226,677,224,1002,223,2,223,1006,224,389,1001,223,1,223,1007,677,677,224,1002,223,2,223,1006,224,404,1001,223,1,223,7,677,677,224,1002,223,2,223,1006,224,419,1001,223,1,223,1008,677,226,224,1002,223,2,223,1005,224,434,1001,223,1,223,1107,226,677,224,102,2,223,223,1005,224,449,1001,223,1,223,1008,226,226,224,1002,223,2,223,1006,224,464,1001,223,1,223,1108,677,677,224,102,2,223,223,1006,224,479,101,1,223,223,1108,226,677,224,1002,223,2,223,1006,224,494,1001,223,1,223,107,226,226,224,1002,223,2,223,1006,224,509,1001,223,1,223,8,226,677,224,102,2,223,223,1006,224,524,1001,223,1,223,1007,226,226,224,1002,223,2,223,1006,224,539,1001,223,1,223,107,677,677,224,1002,223,2,223,1006,224,554,1001,223,1,223,1107,226,226,224,102,2,223,223,1005,224,569,101,1,223,223,1108,677,226,224,1002,223,2,223,1006,224,584,1001,223,1,223,1007,677,226,224,1002,223,2,223,1005,224,599,101,1,223,223,107,226,677,224,102,2,223,223,1005,224,614,1001,223,1,223,108,226,226,224,1002,223,2,223,1005,224,629,101,1,223,223,7,677,226,224,102,2,223,223,1005,224,644,101,1,223,223,8,677,226,224,102,2,223,223,1006,224,659,1001,223,1,223,108,677,226,224,102,2,223,223,1005,224,674,1001,223,1,223,4,223,99,226]"
   ]
  },
  {
   "cell_type": "code",
   "execution_count": 4,
   "metadata": {},
   "outputs": [
    {
     "name": "stdin",
     "output_type": "stream",
     "text": [
      "Get this party started with input: 1\n"
     ]
    },
    {
     "name": "stdout",
     "output_type": "stream",
     "text": [
      "THIS SHOULD BE ZERO (unless final output): 0\n",
      "THIS SHOULD BE ZERO (unless final output): 0\n",
      "THIS SHOULD BE ZERO (unless final output): 0\n",
      "THIS SHOULD BE ZERO (unless final output): 0\n",
      "THIS SHOULD BE ZERO (unless final output): 0\n",
      "THIS SHOULD BE ZERO (unless final output): 0\n",
      "THIS SHOULD BE ZERO (unless final output): 0\n",
      "THIS SHOULD BE ZERO (unless final output): 0\n",
      "THIS SHOULD BE ZERO (unless final output): 0\n",
      "THIS SHOULD BE ZERO (unless final output): 13933662\n"
     ]
    }
   ],
   "source": [
    "run(intcode, verbose=False);"
   ]
  },
  {
   "cell_type": "code",
   "execution_count": null,
   "metadata": {},
   "outputs": [],
   "source": []
  }
 ],
 "metadata": {
  "kernelspec": {
   "display_name": "Python 3",
   "language": "python",
   "name": "python3"
  },
  "language_info": {
   "codemirror_mode": {
    "name": "ipython",
    "version": 3
   },
   "file_extension": ".py",
   "mimetype": "text/x-python",
   "name": "python",
   "nbconvert_exporter": "python",
   "pygments_lexer": "ipython3",
   "version": "3.7.5"
  }
 },
 "nbformat": 4,
 "nbformat_minor": 4
}
