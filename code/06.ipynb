{
 "cells": [
  {
   "cell_type": "markdown",
   "metadata": {},
   "source": [
    "https://adventofcode.com/2019/day/6\n",
    "# --- Day 6: Universal Orbit Map ---\n",
    "You've landed at the Universal Orbit Map facility on Mercury. Because navigation in space often involves transferring between orbits, the orbit maps here are useful for finding efficient routes between, for example, you and Santa. You download a map of the local orbits (your puzzle input).\n",
    "\n",
    "Except for the universal Center of Mass (COM), every object in space is in orbit around exactly one other object. An orbit looks roughly like this:\n",
    "```\n",
    "                  \\\n",
    "                   \\\n",
    "                    |\n",
    "                    |\n",
    "AAA--> o            o <--BBB\n",
    "                    |\n",
    "                    |\n",
    "                   /\n",
    "                  /\n",
    "```\n",
    "In this diagram, the object BBB is in orbit around AAA. The path that BBB takes around AAA (drawn with lines) is only partly shown. In the map data, this orbital relationship is written AAA)BBB, which means \"BBB is in orbit around AAA\".\n",
    "\n",
    "Before you use your map data to plot a course, you need to make sure it wasn't corrupted during the download. To verify maps, the Universal Orbit Map facility uses orbit count checksums - the total number of direct orbits (like the one shown above) and indirect orbits.\n",
    "\n",
    "Whenever A orbits B and B orbits C, then A indirectly orbits C. This chain can be any number of objects long: if A orbits B, B orbits C, and C orbits D, then A indirectly orbits D.\n",
    "\n",
    "What is the total number of direct and indirect orbits in your map data?\n"
   ]
  },
  {
   "cell_type": "code",
   "execution_count": 8,
   "metadata": {},
   "outputs": [
    {
     "data": {
      "text/plain": [
       "{'B': 'COM',\n",
       " 'C': 'B',\n",
       " 'D': 'C',\n",
       " 'E': 'D',\n",
       " 'F': 'E',\n",
       " 'G': 'B',\n",
       " 'H': 'G',\n",
       " 'I': 'D',\n",
       " 'J': 'E',\n",
       " 'K': 'J',\n",
       " 'L': 'K'}"
      ]
     },
     "execution_count": 8,
     "metadata": {},
     "output_type": "execute_result"
    }
   ],
   "source": [
    "test1 = \"\"\"COM)B\n",
    "B)C\n",
    "C)D\n",
    "D)E\n",
    "E)F\n",
    "B)G\n",
    "G)H\n",
    "D)I\n",
    "E)J\n",
    "J)K\n",
    "K)L\n",
    "\"\"\"\n",
    "\n",
    "\n",
    "def parse_orbits(orbits):\n",
    "    \"\"\"Separate a multi-line string into a dict of pointers. \n",
    "    \n",
    "    Each row of the string:  A)B \n",
    "    becomes a pointer from outer (B) -> inner (A)\n",
    "    like so:  {'B':'A'}\n",
    "    \"\"\"\n",
    "    lines = [x.split(')') for x in orbits.split('\\n') if x]\n",
    "    return {x[1]: x[0] for x in lines}   # Note the order reversal\n",
    "\n",
    "test_orbits = parse_orbits(test1)\n",
    "test_orbits"
   ]
  },
  {
   "cell_type": "code",
   "execution_count": 59,
   "metadata": {},
   "outputs": [],
   "source": [
    "def orbit_count(orbits):\n",
    "    \"\"\"Count the total number of direct & indirect orbits in an orbital system.\n",
    "    \n",
    "    orbits = dictionary output from parse_orbits()\n",
    "    \"\"\"\n",
    "    count = 0\n",
    "    for speck in orbits:\n",
    "        trace = speck\n",
    "        count += 1\n",
    "        while (orbits[trace] != 'COM'):\n",
    "            count += 1\n",
    "            trace = orbits[trace]\n",
    "    return count\n",
    "\n",
    "\n",
    "assert orbit_count(test_orbits) == 42"
   ]
  },
  {
   "cell_type": "code",
   "execution_count": 60,
   "metadata": {},
   "outputs": [
    {
     "data": {
      "text/plain": [
       "171213"
      ]
     },
     "execution_count": 60,
     "metadata": {},
     "output_type": "execute_result"
    }
   ],
   "source": [
    "with open('../data/06a.txt', 'r') as f:\n",
    "    raw_orbits = \"\".join(line for line in f)\n",
    "    \n",
    "orbits = parse_orbits(raw_orbits)\n",
    "orbit_count(orbits)  # 171213"
   ]
  },
  {
   "cell_type": "markdown",
   "metadata": {},
   "source": [
    "### --- Part Two ---\n",
    "Now, you just need to figure out how many orbital transfers you (YOU) need to take to get to Santa (SAN).\n",
    "\n",
    "You start at the object YOU are orbiting; your destination is the object SAN is orbiting. An orbital transfer lets you move from any object to an object orbiting or orbited by that object.\n",
    "```\n",
    "                          YOU\n",
    "                         /\n",
    "        G - H       J - K - L\n",
    "       /           /\n",
    "COM - B - C - D - E - F\n",
    "               \\\n",
    "                I - SAN\n",
    "```"
   ]
  },
  {
   "cell_type": "code",
   "execution_count": 63,
   "metadata": {},
   "outputs": [
    {
     "data": {
      "text/plain": [
       "292"
      ]
     },
     "execution_count": 63,
     "metadata": {},
     "output_type": "execute_result"
    }
   ],
   "source": [
    "def orbit_path(speck, orbits=orbits):\n",
    "    \"\"\"Trace the path from a starting point back to 'COM'.\n",
    "          \n",
    "            G - H       J - K\n",
    "           /           /\n",
    "    COM - B - C - D - E\n",
    "    \n",
    "    speck = 'H'\n",
    "    orbits = dictionary output from parse_orbits()\n",
    "    \n",
    "    path = ['H', 'G', 'B', 'COM']\n",
    "    \"\"\"\n",
    "    path = []\n",
    "    trace = speck\n",
    "    \n",
    "    while (orbits[trace] != 'COM'):\n",
    "        path.append(trace)\n",
    "        trace = orbits[trace]\n",
    "        \n",
    "    path.append('COM')    \n",
    "    return path\n",
    "\n",
    "\n",
    "def orbital_jumps(A, B):\n",
    "    \"\"\"Count the jumps to nearest shared neighbor, return the total jumps.\n",
    "    \n",
    "    A & B = list output from orbit_path()   \n",
    "    ex)  ['H', 'G', 'B', 'COM']\n",
    "    \"\"\"\n",
    "    # subtract 1 because it counts jumps, not planets\n",
    "    A_path = len(A) - len(set(A) & set(B)) - 1\n",
    "    B_path = len(B) - len(set(A) & set(B)) - 1\n",
    "    return A_path + B_path\n",
    "\n",
    "\n",
    "you = orbit_path('YOU')\n",
    "santa = orbit_path('SAN')\n",
    "orbital_jumps(you, santa)  # 292"
   ]
  },
  {
   "cell_type": "code",
   "execution_count": null,
   "metadata": {},
   "outputs": [],
   "source": []
  }
 ],
 "metadata": {
  "kernelspec": {
   "display_name": "Python 3",
   "language": "python",
   "name": "python3"
  },
  "language_info": {
   "codemirror_mode": {
    "name": "ipython",
    "version": 3
   },
   "file_extension": ".py",
   "mimetype": "text/x-python",
   "name": "python",
   "nbconvert_exporter": "python",
   "pygments_lexer": "ipython3",
   "version": "3.7.5"
  }
 },
 "nbformat": 4,
 "nbformat_minor": 4
}
