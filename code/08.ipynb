{
 "cells": [
  {
   "cell_type": "markdown",
   "metadata": {},
   "source": [
    "# --- Day 8: Space Image Format ---\n",
    "The Elves' spirits are lifted when they realize you have an opportunity to reboot one of their Mars rovers, and so they are curious if you would spend a brief sojourn on Mars. You land your ship near the rover.\n",
    "\n",
    "When you reach the rover, you discover that it's already in the process of rebooting! It's just waiting for someone to enter a BIOS password. The Elf responsible for the rover takes a picture of the password (your puzzle input) and sends it to you via the Digital Sending Network.\n",
    "\n",
    "Unfortunately, images sent via the Digital Sending Network aren't encoded with any normal encoding; instead, they're encoded in a special Space Image Format. None of the Elves seem to remember why this is the case. They send you the instructions to decode it.\n",
    "\n",
    "Images are sent as a series of digits that each represent the color of a single pixel. The digits fill each row of the image left-to-right, then move downward to the next row, filling rows top-to-bottom until every pixel of the image is filled.\n",
    "\n",
    "Each image actually consists of a series of identically-sized layers that are filled in this way. So, the first digit corresponds to the top-left pixel of the first layer, the second digit corresponds to the pixel to the right of that on the same layer, and so on until the last digit, which corresponds to the bottom-right pixel of the last layer."
   ]
  },
  {
   "cell_type": "code",
   "execution_count": 21,
   "metadata": {},
   "outputs": [
    {
     "data": {
      "text/plain": [
       "array([[[1, 2, 3],\n",
       "        [4, 5, 6]],\n",
       "\n",
       "       [[7, 8, 9],\n",
       "        [0, 1, 2]]])"
      ]
     },
     "execution_count": 21,
     "metadata": {},
     "output_type": "execute_result"
    }
   ],
   "source": [
    "import numpy as np\n",
    "from collections import Counter\n",
    "\n",
    "width = 25\n",
    "height = 6\n",
    "\n",
    "test1 = \"123456789012\"\n",
    "\n",
    "def str_to_array(pixels, width, height):\n",
    "    ar = np.array([int(x) for x in pixels])\n",
    "    layers = len(ar) / (width * height)\n",
    "    return ar.reshape([-1, height, width])\n",
    "\n",
    "str_to_array(test1, 3, 2)"
   ]
  },
  {
   "cell_type": "code",
   "execution_count": 14,
   "metadata": {},
   "outputs": [
    {
     "data": {
      "text/plain": [
       "15000"
      ]
     },
     "execution_count": 14,
     "metadata": {},
     "output_type": "execute_result"
    }
   ],
   "source": [
    "with open('../data/08a.txt', 'r') as f:\n",
    "    pixels = f.read().strip()\n",
    "len(pixels)"
   ]
  },
  {
   "cell_type": "code",
   "execution_count": 37,
   "metadata": {},
   "outputs": [
    {
     "data": {
      "text/plain": [
       "Counter({2: 129, 1: 16, 0: 5})"
      ]
     },
     "execution_count": 37,
     "metadata": {},
     "output_type": "execute_result"
    }
   ],
   "source": [
    "layered_pixels = str_to_array(pixels, width, height)\n",
    "\n",
    "counts = {}\n",
    "for i, layer in enumerate(layered_pixels):\n",
    "    c = Counter(layer.reshape(-1,))\n",
    "    counts[i] = c\n",
    "\n",
    "layer_fewest_zeros = min(counts, key=lambda x: counts[x][0])\n",
    "counts[layer_fewest_zeros]"
   ]
  },
  {
   "cell_type": "code",
   "execution_count": 35,
   "metadata": {},
   "outputs": [
    {
     "data": {
      "text/plain": [
       "2064"
      ]
     },
     "execution_count": 35,
     "metadata": {},
     "output_type": "execute_result"
    }
   ],
   "source": [
    "counts[11][1] * counts[11][2]"
   ]
  },
  {
   "cell_type": "markdown",
   "metadata": {},
   "source": [
    "--- Part Two ---\n",
    "Now you're ready to decode the image. The image is rendered by stacking the layers and aligning the pixels with the same positions in each layer. The digits indicate the color of the corresponding pixel: 0 is black, 1 is white, and 2 is transparent.\n",
    "\n",
    "The layers are rendered with the first layer in front and the last layer in back. So, if a given position has a transparent pixel in the first and second layers, a black pixel in the third layer, and a white pixel in the fourth layer, the final image would have a black pixel at that position.\n",
    "\n",
    "For example, given an image 2 pixels wide and 2 pixels tall, the image data 0222112222120000 corresponds to the following image layers:\n",
    "```\n",
    "Layer 1: 02\n",
    "         22\n",
    "\n",
    "Layer 2: 11\n",
    "         22\n",
    "\n",
    "Layer 3: 22\n",
    "         12\n",
    "\n",
    "Layer 4: 00\n",
    "         00\n",
    "```\n",
    "Then, the full image can be found by determining the top visible pixel in each position:\n",
    "\n",
    "The top-left pixel is black because the top layer is 0.\n",
    "The top-right pixel is white because the top layer is 2 (transparent), but the second layer is 1.\n",
    "The bottom-left pixel is white because the top two layers are 2, but the third layer is 1.\n",
    "The bottom-right pixel is black because the only visible pixel in that position is 0 (from layer 4).\n",
    "So, the final image looks like this:\n",
    "```\n",
    "01\n",
    "10\n",
    "```\n",
    "What message is produced after decoding your image?"
   ]
  },
  {
   "cell_type": "code",
   "execution_count": 208,
   "metadata": {},
   "outputs": [
    {
     "data": {
      "text/plain": [
       "(100, 6, 25)"
      ]
     },
     "execution_count": 208,
     "metadata": {},
     "output_type": "execute_result"
    }
   ],
   "source": [
    "h, l, w = layered_pixels.shape\n",
    "h, l, w"
   ]
  },
  {
   "cell_type": "code",
   "execution_count": 211,
   "metadata": {},
   "outputs": [
    {
     "data": {
      "text/plain": [
       "(100, 150)"
      ]
     },
     "execution_count": 211,
     "metadata": {},
     "output_type": "execute_result"
    }
   ],
   "source": [
    "shaped_layered = layered_pixels.reshape(1, -1, l*w)[0]\n",
    "shaped_layered.shape"
   ]
  },
  {
   "cell_type": "code",
   "execution_count": 214,
   "metadata": {},
   "outputs": [],
   "source": [
    "def combine_layers(shaped, verbose=False):\n",
    "    \"\"\"This is very NON-ideal. I'm sure there's a way to slice w/ \n",
    "    NumPy magic and get something that avoids nested for loops.\n",
    "    \"\"\"\n",
    "    output = np.array([2 for _ in range(shaped.shape[1])])\n",
    "    \n",
    "    if verbose:\n",
    "        print(output.shape, 'output')\n",
    "        print(shaped.shape, 'shape of input')\n",
    "    \n",
    "    for layer in shaped[::-1]:\n",
    "        new_output = []\n",
    "        \n",
    "        for new, old in zip(layer, output):\n",
    "            if new != 2:\n",
    "                new_output.append(new)\n",
    "            else: \n",
    "                new_output.append(old)\n",
    "\n",
    "        output = np.array(new_output)\n",
    "        \n",
    "    if verbose:    \n",
    "        print(output.shape, 'shape of output')\n",
    "        \n",
    "    return output"
   ]
  },
  {
   "cell_type": "code",
   "execution_count": 215,
   "metadata": {},
   "outputs": [
    {
     "name": "stdout",
     "output_type": "stream",
     "text": [
      "test passed\n"
     ]
    }
   ],
   "source": [
    "test2 = str_to_array('0222112222120000', 2, 2)\n",
    "\n",
    "shaped = test2.reshape(1,-1,4)[0]\n",
    "#print(shaped.shape, '  is the shape')\n",
    "\n",
    "assert combine_layers(shaped).tolist() == [0,1,1,0]\n",
    "print('test passed')"
   ]
  },
  {
   "cell_type": "code",
   "execution_count": 227,
   "metadata": {},
   "outputs": [
    {
     "name": "stdout",
     "output_type": "stream",
     "text": [
      "[[1 0 0 1 0 0 1 1 0 0 1 0 0 1 0 1 1 1 1 0 0 1 1 0 0]\n",
      " [1 0 1 0 0 1 0 0 1 0 1 0 0 1 0 0 0 0 1 0 1 0 0 1 0]\n",
      " [1 1 0 0 0 1 0 0 1 0 1 0 0 1 0 0 0 1 0 0 1 0 0 1 0]\n",
      " [1 0 1 0 0 1 1 1 1 0 1 0 0 1 0 0 1 0 0 0 1 1 1 1 0]\n",
      " [1 0 1 0 0 1 0 0 1 0 1 0 0 1 0 1 0 0 0 0 1 0 0 1 0]\n",
      " [1 0 0 1 0 1 0 0 1 0 0 1 1 0 0 1 1 1 1 0 1 0 0 1 0]]\n"
     ]
    }
   ],
   "source": [
    "combined = combine_layers(shaped_layered)\n",
    "finished = combined.reshape(height, width)\n",
    "print(finished)"
   ]
  },
  {
   "cell_type": "code",
   "execution_count": null,
   "metadata": {},
   "outputs": [],
   "source": []
  }
 ],
 "metadata": {
  "kernelspec": {
   "display_name": "Python 3",
   "language": "python",
   "name": "python3"
  },
  "language_info": {
   "codemirror_mode": {
    "name": "ipython",
    "version": 3
   },
   "file_extension": ".py",
   "mimetype": "text/x-python",
   "name": "python",
   "nbconvert_exporter": "python",
   "pygments_lexer": "ipython3",
   "version": "3.7.5"
  }
 },
 "nbformat": 4,
 "nbformat_minor": 4
}
