{
 "cells": [
  {
   "cell_type": "markdown",
   "metadata": {},
   "source": [
    "# --- Day 3: Crossed Wires ---\n",
    "The gravity assist was successful, and you're well on your way to the Venus refuelling station. During the rush back on Earth, the fuel management system wasn't completely installed, so that's next on the priority list.\n",
    "\n",
    "Opening the front panel reveals a jumble of wires. Specifically, two wires are connected to a central port and extend outward on a grid. You trace the path each wire takes as it leaves the central port, one wire per line of text (your puzzle input).\n",
    "\n",
    "The wires twist and turn, but the two wires occasionally cross paths. To fix the circuit, you need to find the intersection point closest to the central port. Because the wires are on a grid, use the Manhattan distance for this measurement. While the wires do technically cross right at the central port where they both start, this point does not count, nor does a wire count as crossing with itself.\n",
    "\n",
    "What is the Manhattan distance from the central port to the closest intersection?"
   ]
  },
  {
   "cell_type": "code",
   "execution_count": 1,
   "metadata": {},
   "outputs": [],
   "source": [
    "wire_paths = []\n",
    "\n",
    "with open('../data/03a.txt', 'r') as f:\n",
    "    for line in f:\n",
    "        wire_paths.append(line.strip().split(','))\n",
    "\n",
    "a_paths, b_paths = wire_paths"
   ]
  },
  {
   "cell_type": "code",
   "execution_count": 2,
   "metadata": {},
   "outputs": [],
   "source": [
    "test0 = '''R8,U5,L5,D3\n",
    "U7,R6,D4,L4'''\n",
    "\n",
    "test1 = \"\"\"R75,D30,R83,U83,L12,D49,R71,U7,L72\n",
    "U62,R66,U55,R34,D71,R55,D58,R83\"\"\"\n",
    "\n",
    "test2 = \"\"\"R98,U47,R26,D63,R33,U87,L62,D20,R33,U53,R51\n",
    "U98,R91,D20,R16,D67,R40,U7,R15,U6,R7\"\"\""
   ]
  },
  {
   "cell_type": "code",
   "execution_count": 3,
   "metadata": {},
   "outputs": [
    {
     "data": {
      "text/plain": [
       "248"
      ]
     },
     "execution_count": 3,
     "metadata": {},
     "output_type": "execute_result"
    }
   ],
   "source": [
    "def all_seen(paths):\n",
    "    \"\"\"Given a list of paths, create a dictionary of every point visited,\n",
    "    and the fewest steps taken to get there.\n",
    "    {(x, y): steps_taken}\n",
    "    \"\"\"\n",
    "    a = (0, 0)\n",
    "    steps = 0\n",
    "    total_steps = {}\n",
    "    seen = set()\n",
    "    \n",
    "    \n",
    "    def update_dict(total_steps, a, steps):\n",
    "        steps += 1\n",
    "        if a not in total_steps:\n",
    "            total_steps[a] = steps\n",
    "        # `else` not needed,this can only have more steps than the initial assignment     \n",
    "        return steps, total_steps\n",
    "    \n",
    "    \n",
    "    for path in paths:\n",
    "        a_start = a[:]    \n",
    "        _dir, delta = path[0], int(path[1:])\n",
    "        if _dir == 'R':\n",
    "            while a[0] < a_start[0] + delta:\n",
    "                a = (a[0] + 1, a[1])\n",
    "                steps, total_steps = update_dict(total_steps, a, steps)\n",
    "        if _dir == 'L':\n",
    "            while a[0] > a_start[0] - delta:\n",
    "                a = (a[0] - 1, a[1])\n",
    "                steps, total_steps = update_dict(total_steps, a, steps)\n",
    "        if _dir == 'U':\n",
    "            while a[1] < a_start[1] + delta:\n",
    "                a = (a[0], a[1] + 1)\n",
    "                steps, total_steps = update_dict(total_steps, a, steps)\n",
    "        if _dir == 'D':\n",
    "            while a[1] > a_start[1] - delta:\n",
    "                a = (a[0], a[1] - 1)\n",
    "                steps, total_steps = update_dict(total_steps, a, steps)\n",
    "    return total_steps\n",
    "\n",
    "\n",
    "def shared_seen(a_paths=a_paths, b_paths=b_paths):\n",
    "    a_set = set(all_seen(a_paths))\n",
    "    b_set = set(all_seen(b_paths))\n",
    "    return list(a_set.intersection(b_set))\n",
    "\n",
    "\n",
    "def manhattan_min(shared):\n",
    "    shared = [[int(x) for x in point] for point in shared]\n",
    "    return sum(min(shared, key=lambda x: abs(x[0]) + abs(x[1])))\n",
    "\n",
    "\n",
    "for test, ans in zip([test0, test1, test2], [6, 159, 135]):\n",
    "    a_test, b_test = [x.split(',') for x in test.split('\\n')]\n",
    "    manhat_min = manhattan_min(shared_seen(a_test, b_test))\n",
    "    assert manhat_min == ans, f'part A got {manhat_min}, should have been {ans}'\n",
    "\n",
    "\n",
    "manhattan_min(shared_seen(a_paths, b_paths))  # 248"
   ]
  },
  {
   "cell_type": "markdown",
   "metadata": {},
   "source": [
    "### --- Part Two ---\n",
    "It turns out that this circuit is very timing-sensitive; you actually need to minimize the signal delay.\n",
    "\n",
    "To do this, calculate the number of steps each wire takes to reach each intersection; choose the intersection where the sum of both wires' steps is lowest. If a wire visits a position on the grid multiple times, use the steps value from the first time it visits that position when calculating the total value of a specific intersection.\n",
    "\n",
    "The number of steps a wire takes is the total number of grid squares the wire has entered to get to that location, including the intersection being considered.\n",
    "\n",
    "What is the fewest combined steps the wires must take to reach an intersection?"
   ]
  },
  {
   "cell_type": "code",
   "execution_count": 4,
   "metadata": {},
   "outputs": [
    {
     "name": "stdout",
     "output_type": "stream",
     "text": [
      "The fewest combined steps to get to a wire crossing is 28580.\n"
     ]
    }
   ],
   "source": [
    "a, b = all_seen(a_paths), all_seen(b_paths)\n",
    "\n",
    "fewest_steps = min([a[point] + b[point] for point in shared_seen()])  \n",
    "print(f'The fewest combined steps to get to a wire crossing is {fewest_steps}.')  # 28580"
   ]
  },
  {
   "cell_type": "code",
   "execution_count": null,
   "metadata": {},
   "outputs": [],
   "source": []
  }
 ],
 "metadata": {
  "kernelspec": {
   "display_name": "Python 3",
   "language": "python",
   "name": "python3"
  },
  "language_info": {
   "codemirror_mode": {
    "name": "ipython",
    "version": 3
   },
   "file_extension": ".py",
   "mimetype": "text/x-python",
   "name": "python",
   "nbconvert_exporter": "python",
   "pygments_lexer": "ipython3",
   "version": "3.7.5"
  }
 },
 "nbformat": 4,
 "nbformat_minor": 4
}
