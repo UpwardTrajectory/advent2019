{
 "cells": [
  {
   "cell_type": "markdown",
   "metadata": {},
   "source": [
    "# --- Day 7: Amplification Circuit ---\n",
    "https://adventofcode.com/2019/day/7\n",
    "\n",
    "Based on the navigational maps, you're going to need to send more power to your ship's thrusters to reach Santa in time. To do this, you'll need to configure a series of amplifiers already installed on the ship.\n",
    "\n",
    "There are five amplifiers connected in series; each one receives an input signal and produces an output signal. They are connected such that the first amplifier's output leads to the second amplifier's input, the second amplifier's output leads to the third amplifier's input, and so on. The first amplifier's input value is 0, and the last amplifier's output leads to your ship's thrusters.\n",
    "```\n",
    "    O-------O  O-------O  O-------O  O-------O  O-------O\n",
    "0 ->| Amp A |->| Amp B |->| Amp C |->| Amp D |->| Amp E |-> (to thrusters)\n",
    "    O-------O  O-------O  O-------O  O-------O  O-------O\n",
    "```\n",
    "    \n",
    "The Elves have sent you some Amplifier Controller Software (your puzzle input), a program that should run on your existing Intcode computer. Each amplifier will need to run a copy of the program.\n",
    "\n",
    "When a copy of the program starts running on an amplifier, it will first use an input instruction to ask the amplifier for its current phase setting (an integer from 0 to 4). Each phase setting is used exactly once, but the Elves can't remember which amplifier needs which phase setting.\n",
    "\n",
    "The program will then call another input instruction to get the amplifier's input signal, compute the correct output signal, and supply it back to the amplifier with an output instruction. (If the amplifier has not yet received an input signal, it waits until one arrives.)\n",
    "\n",
    "Your job is to find the largest output signal that can be sent to the thrusters by trying every possible combination of phase settings on the amplifiers. Make sure that memory is not shared or reused between copies of the program."
   ]
  },
  {
   "cell_type": "code",
   "execution_count": 7,
   "metadata": {},
   "outputs": [],
   "source": [
    "%load_ext autoreload\n",
    "%autoreload 2"
   ]
  },
  {
   "cell_type": "code",
   "execution_count": 22,
   "metadata": {},
   "outputs": [],
   "source": [
    "from advent import run, load_data\n",
    "from itertools import permutations"
   ]
  },
  {
   "cell_type": "code",
   "execution_count": 29,
   "metadata": {},
   "outputs": [
    {
     "data": {
      "text/plain": [
       "[3, 8, 1001, 8, 10, 8, 105, 1]"
      ]
     },
     "execution_count": 29,
     "metadata": {},
     "output_type": "execute_result"
    }
   ],
   "source": [
    "raw_data = load_data(7, intcode=True)\n",
    "raw_data[:8]"
   ]
  },
  {
   "cell_type": "code",
   "execution_count": 57,
   "metadata": {},
   "outputs": [],
   "source": [
    "sequences = permutations(range(5), 5)\n"
   ]
  },
  {
   "cell_type": "code",
   "execution_count": 32,
   "metadata": {},
   "outputs": [
    {
     "name": "stdin",
     "output_type": "stream",
     "text": [
      "Get this party started with input: 0\n",
      "Get this party started with input: 0\n"
     ]
    },
    {
     "name": "stdout",
     "output_type": "stream",
     "text": [
      "14\n"
     ]
    }
   ],
   "source": [
    "run(raw_data);"
   ]
  },
  {
   "cell_type": "code",
   "execution_count": 49,
   "metadata": {},
   "outputs": [],
   "source": [
    "def get_in(query='>'):\n",
    "    return input(query)\n",
    "\n",
    "def give_out(incoming):\n",
    "    print(incoming)"
   ]
  },
  {
   "cell_type": "code",
   "execution_count": 50,
   "metadata": {},
   "outputs": [
    {
     "name": "stdin",
     "output_type": "stream",
     "text": [
      "> hi\n"
     ]
    },
    {
     "name": "stdout",
     "output_type": "stream",
     "text": [
      "test_case\n",
      "final out >>> hi\n"
     ]
    }
   ],
   "source": [
    "from io import StringIO\n",
    "import sys\n",
    "\n",
    "first = get_in()\n",
    "sys.stdin = StringIO(give_out('test_case'))\n",
    "print('final out >>>', first)"
   ]
  },
  {
   "cell_type": "code",
   "execution_count": 41,
   "metadata": {},
   "outputs": [
    {
     "name": "stdin",
     "output_type": "stream",
     "text": [
      " test_case\n"
     ]
    },
    {
     "name": "stdout",
     "output_type": "stream",
     "text": [
      "test_case\n"
     ]
    }
   ],
   "source": [
    "get_in()\n",
    "give_out('test_case')"
   ]
  },
  {
   "cell_type": "code",
   "execution_count": null,
   "metadata": {},
   "outputs": [],
   "source": [
    "input()"
   ]
  },
  {
   "cell_type": "code",
   "execution_count": 60,
   "metadata": {},
   "outputs": [],
   "source": [
    "class Computer():\n",
    "    \n",
    "    # Intcode Computer Codes\n",
    "    HALT = 99\n",
    "    ADD = 1\n",
    "    MULT = 2\n",
    "    GET_IN = 3\n",
    "    PRINT_OUT = 4\n",
    "    JUMP_TRUE = 5\n",
    "    JUMP_FALSE = 6\n",
    "    LESS_THAN = 7\n",
    "    EQUAL = 8\n",
    "    \n",
    "    # Saved States\n",
    "    \n",
    "    _input = None\n",
    "    printout = None\n",
    "    \n",
    "    # Methods\n",
    "    \n",
    "    def opcode(self, raw_code):\n",
    "        \"\"\"Convert an opcode: ABCDE into {code, param_count, [modes]}\n",
    "\n",
    "        Will auto-adjust the param_count and length of modes based\n",
    "        on the dictionary param_counts\n",
    "\n",
    "        ex) ABCDE  --  if DE is either 01 or 02:\n",
    "        {\n",
    "        'code': DE, \n",
    "        'param_count': 3, \n",
    "        'modes': [C, B, A],\n",
    "        }\n",
    "        \"\"\"\n",
    "        filled_code = str(raw_code).zfill(5)\n",
    "\n",
    "        param_counts = {\n",
    "            1: 3, \n",
    "            2: 3, \n",
    "            3: 1, \n",
    "            4: 1, \n",
    "            5: 2,\n",
    "            6: 2,\n",
    "            7: 3,\n",
    "            8: 3,\n",
    "            99: 0\n",
    "        }\n",
    "\n",
    "        # split @ 2 from right side, then reverse everything left of split\n",
    "        modes = filled_code[:-2][::-1]\n",
    "        code = int(filled_code[-2:])\n",
    "        count = param_counts[code]\n",
    "\n",
    "        modes = [int(x) for x in modes[:count]] \n",
    "\n",
    "        return {'code': code, 'param_count': count, 'modes': modes}\n",
    "    \n",
    "    def modeify(self, intcode, i):\n",
    "        \"\"\"Apply a mode to a parameter\"\"\"\n",
    "        j = i + 1\n",
    "        _opcode = opcode(intcode[i])\n",
    "        params = intcode[j: j + _opcode['param_count']]\n",
    "        modes = _opcode['modes']\n",
    "\n",
    "        mode_covert = {\n",
    "            0: lambda x: intcode[x],    # position mode\n",
    "            1: lambda x: x              # immediate mode\n",
    "        }\n",
    "\n",
    "        output = [mode_covert[mode](param) for mode, param in zip(modes, params)]\n",
    "        return output\n",
    "    \n",
    "    \n",
    "    def get_new_pos(self, intcode, mode, i, delta_i):\n",
    "        if mode == 0:\n",
    "            return intcode[i + delta_i]\n",
    "        elif mode == 1:\n",
    "            return i + delta_i\n",
    "        else:\n",
    "            print(f'Mode not recognized. {mode} is not in [0, 1].')\n",
    "            raise ValueError\n",
    "    \n",
    "    \n",
    "    def single_code(self, intcode, i, halt=False, verbose=False):\n",
    "        \"\"\"Process a single intstruction from intcode\n",
    "\n",
    "        return the same format we started with:\n",
    "        (intcode, i, halt_status)\n",
    "        \"\"\"    \n",
    "        _opcode = opcode(intcode[i])\n",
    "        code = _opcode['code']\n",
    "        modes = _opcode['modes']\n",
    "        args = modeify(intcode, i)\n",
    "\n",
    "        if verbose:\n",
    "            print('params', intcode[i+1: i+1+_opcode['param_count']])\n",
    "            print('modes', ['pos' if x is 0 else 'imm' for x in _opcode['modes']])\n",
    "            print('args', args)\n",
    "\n",
    "        if code == HALT:\n",
    "            return intcode, i, True\n",
    "        elif code == ADD:\n",
    "            new_pos = get_new_pos(intcode, modes[-1], i, 3)\n",
    "            new_value = sum(args[:-1])\n",
    "        elif code == MULT:\n",
    "            new_pos = get_new_pos(intcode, modes[-1], i, 3)\n",
    "            new_value = args[0] * args[1]\n",
    "        elif code == GET_IN:\n",
    "            new_pos = get_new_pos(intcode, modes[-1], i, 1)\n",
    "            new_value = int(input('>>'))\n",
    "            self._input = new_value\n",
    "        elif code == PRINT_OUT:\n",
    "            new_pos = get_new_pos(intcode, modes[-1], i, 1)\n",
    "            printout = intcode[new_pos]\n",
    "            self.printout = printout\n",
    "            print(printout)\n",
    "        elif code == JUMP_TRUE:\n",
    "            if args[0]:\n",
    "                new_pointer = args[1]\n",
    "            else:\n",
    "                new_pointer = i + 3\n",
    "        elif code == JUMP_FALSE:\n",
    "            if args[0] == 0:\n",
    "                new_pointer = args[1]\n",
    "            else:\n",
    "                new_pointer = i + 3\n",
    "        elif code == LESS_THAN:\n",
    "            if args[0] < args[1]:\n",
    "                new_value = 1\n",
    "            else:\n",
    "                new_value = 0\n",
    "            new_pos = get_new_pos(intcode, modes[-1], i, 3)\n",
    "        elif code == EQUAL:\n",
    "            if args[0] == args[1]:\n",
    "                new_value = 1\n",
    "            else:\n",
    "                new_value = 0\n",
    "            new_pos = get_new_pos(intcode, modes[-1], i, 3)\n",
    "\n",
    "        if code not in [PRINT_OUT, JUMP_TRUE, JUMP_FALSE]:\n",
    "            intcode[new_pos] = new_value\n",
    "            if verbose:\n",
    "                print(f'updating intcode[{new_pos}] to {intcode[new_pos]}')\n",
    "\n",
    "        if code not in [JUMP_TRUE, JUMP_FALSE]:\n",
    "            i += _opcode['param_count'] + 1\n",
    "        else:\n",
    "            i = new_pointer\n",
    "\n",
    "        return intcode, i, halt\n",
    "\n",
    "        "
   ]
  },
  {
   "cell_type": "code",
   "execution_count": 61,
   "metadata": {},
   "outputs": [
    {
     "data": {
      "text/plain": [
       "{'code': 2, 'param_count': 3, 'modes': [1, 0, 1]}"
      ]
     },
     "execution_count": 61,
     "metadata": {},
     "output_type": "execute_result"
    }
   ],
   "source": [
    "a = Computer()\n",
    "a.opcode('10102')"
   ]
  },
  {
   "cell_type": "code",
   "execution_count": null,
   "metadata": {},
   "outputs": [],
   "source": []
  }
 ],
 "metadata": {
  "kernelspec": {
   "display_name": "Python 3",
   "language": "python",
   "name": "python3"
  },
  "language_info": {
   "codemirror_mode": {
    "name": "ipython",
    "version": 3
   },
   "file_extension": ".py",
   "mimetype": "text/x-python",
   "name": "python",
   "nbconvert_exporter": "python",
   "pygments_lexer": "ipython3",
   "version": "3.7.5"
  }
 },
 "nbformat": 4,
 "nbformat_minor": 4
}
