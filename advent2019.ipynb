{
 "cells": [
  {
   "cell_type": "markdown",
   "metadata": {},
   "source": [
    "# Day 1:\n",
    "Fuel required to launch a given module is based on its mass. Specifically, to find the fuel required for a module, take its mass, divide by three, round down, and subtract 2.\n",
    "\n",
    "For example:\n",
    "\n",
    "* For a mass of 12, divide by 3 and round down to get 4, then subtract 2 to get 2.\n",
    "* For a mass of 14, dividing by 3 and rounding down still yields 4, so the fuel required is also 2.\n",
    "* For a mass of 1969, the fuel required is 654.\n",
    "* For a mass of 100756, the fuel required is 33583.\n",
    "The Fuel Counter-Upper needs to know the total fuel requirement. To find it, individually calculate the fuel needed for the mass of each module (your puzzle input), then add together all the fuel values.\n",
    "\n",
    "What is the sum of the fuel requirements for all of the modules on your spacecraft?"
   ]
  },
  {
   "cell_type": "code",
   "execution_count": 43,
   "metadata": {},
   "outputs": [
    {
     "data": {
      "text/plain": [
       "3263320"
      ]
     },
     "execution_count": 43,
     "metadata": {},
     "output_type": "execute_result"
    }
   ],
   "source": [
    "with open('./data/1a.txt', 'rb') as f:\n",
    "    masses = [int(line) for line in f]\n",
    "\n",
    "fuels = [x // 3 - 2 for x in masses]\n",
    "sum(fuels)"
   ]
  },
  {
   "cell_type": "markdown",
   "metadata": {},
   "source": [
    "### Day 1 : part two\n",
    "During the second Go / No Go poll, the Elf in charge of the Rocket Equation Double-Checker stops the launch sequence. Apparently, you forgot to include additional fuel for the fuel you just added.\n",
    "\n",
    "Fuel itself requires fuel just like a module - take its mass, divide by three, round down, and subtract 2. However, that fuel also requires fuel, and that fuel requires fuel, and so on. Any mass that would require negative fuel should instead be treated as if it requires zero fuel; the remaining mass, if any, is instead handled by wishing really hard, which has no mass and is outside the scope of this calculation.\n",
    "\n",
    "So, for each module mass, calculate its fuel and add it to the total. Then, treat the fuel amount you just calculated as the input mass and repeat the process, continuing until a fuel requirement is zero or negative. For example:\n",
    "\n",
    "A module of mass 14 requires 2 fuel. This fuel requires no further fuel (2 divided by 3 and rounded down is 0, which would call for a negative fuel), so the total fuel required is still just 2.\n",
    "At first, a module of mass 1969 requires 654 fuel. Then, this fuel requires 216 more fuel (654 / 3 - 2). 216 then requires 70 more fuel, which requires 21 fuel, which requires 5 fuel, which requires no further fuel. So, the total fuel required for a module of mass 1969 is 654 + 216 + 70 + 21 + 5 = 966.\n",
    "The fuel required by a module of mass 100756 and its fuel is: 33583 + 11192 + 3728 + 1240 + 411 + 135 + 43 + 12 + 2 = 50346.\n",
    "What is the sum of the fuel requirements for all of the modules on your spacecraft when also taking into account the mass of the added fuel? (Calculate the fuel requirements for each module separately, then add them all up at the end.)"
   ]
  },
  {
   "cell_type": "code",
   "execution_count": 49,
   "metadata": {},
   "outputs": [
    {
     "data": {
      "text/plain": [
       "4892135"
      ]
     },
     "execution_count": 49,
     "metadata": {},
     "output_type": "execute_result"
    }
   ],
   "source": [
    "import pandas as pd\n",
    "\n",
    "def cum_sum_fuel(masses, max_iter=100):\n",
    "    \"\"\"Given an iterable of masses, apply the fuel calculation formula:\n",
    "    > max(0, x//3 - 2)\n",
    "    to each mass, then re-apply the formula to the fuel we just added, \n",
    "    continueing until all rows yield 0 (or checking `max_iter` times).\n",
    "    \"\"\"\n",
    "    df = pd.DataFrame()\n",
    "    df['mod_mass'] = masses\n",
    "    \n",
    "    i = 0\n",
    "    while (sum(df.iloc[:, -1]) > 0) and (i < max_iter):\n",
    "        df[f'fuel_{i}'] = df.iloc[:, i].apply(lambda x: max(0, x//3 - 2))\n",
    "        i += 1\n",
    "\n",
    "    return df.sum()[1:].sum()\n",
    "\n",
    "cum_sum_fuel(masses)"
   ]
  },
  {
   "cell_type": "markdown",
   "metadata": {},
   "source": [
    "# --- Day 2: 1202 Program Alarm ---\n",
    "On the way to your gravity assist around the Moon, your ship computer beeps angrily about a \"1202 program alarm\". On the radio, an Elf is already explaining how to handle the situation: \"Don't worry, that's perfectly norma--\" The ship computer bursts into flames.\n",
    "\n",
    "You notify the Elves that the computer's magic smoke seems to have escaped. \"That computer ran Intcode programs like the gravity assist program it was working on; surely there are enough spare parts up there to build a new Intcode computer!\"\n",
    "\n",
    "An Intcode program is a list of integers separated by commas (like 1,0,0,3,99). To run one, start by looking at the first integer (called position 0). Here, you will find an opcode - either 1, 2, or 99. The opcode indicates what to do; for example, 99 means that the program is finished and should immediately halt. Encountering an unknown opcode means something went wrong.\n",
    "\n",
    "Opcode 1 adds together numbers read from two positions and stores the result in a third position. The three integers immediately after the opcode tell you these three positions - the first two indicate the positions from which you should read the input values, and the third indicates the position at which the output should be stored.\n",
    "\n",
    "For example, if your Intcode computer encounters 1,10,20,30, it should read the values at positions 10 and 20, add those values, and then overwrite the value at position 30 with their sum.\n",
    "\n",
    "Opcode 2 works exactly like opcode 1, except it multiplies the two inputs instead of adding them. Again, the three integers after the opcode indicate where the inputs and outputs are, not their values.\n",
    "\n",
    "Once you're done processing an opcode, move to the next one by stepping forward 4 positions.\n",
    "\n",
    "For example, suppose you have the following program:\n",
    "\n",
    "1,9,10,3,2,3,11,0,99,30,40,50\n",
    "For the purposes of illustration, here is the same program split into multiple lines:\n",
    "\n",
    "1,9,10,3,\n",
    "2,3,11,0,\n",
    "99,\n",
    "30,40,50\n",
    "The first four integers, 1,9,10,3, are at positions 0, 1, 2, and 3. Together, they represent the first opcode (1, addition), the positions of the two inputs (9 and 10), and the position of the output (3). To handle this opcode, you first need to get the values at the input positions: position 9 contains 30, and position 10 contains 40. Add these numbers together to get 70. Then, store this value at the output position; here, the output position (3) is at position 3, so it overwrites itself. Afterward, the program looks like this:\n",
    "\n",
    "1,9,10,70,\n",
    "2,3,11,0,\n",
    "99,\n",
    "30,40,50\n",
    "Step forward 4 positions to reach the next opcode, 2. This opcode works just like the previous, but it multiplies instead of adding. The inputs are at positions 3 and 11; these positions contain 70 and 50 respectively. Multiplying these produces 3500; this is stored at position 0:\n",
    "\n",
    "3500,9,10,70,\n",
    "2,3,11,0,\n",
    "99,\n",
    "30,40,50\n",
    "Stepping forward 4 more positions arrives at opcode 99, halting the program.\n",
    "\n",
    "Here are the initial and final states of a few more small programs:\n",
    "\n",
    "1,0,0,0,99 becomes 2,0,0,0,99 (1 + 1 = 2).\n",
    "2,3,0,3,99 becomes 2,3,0,6,99 (3 * 2 = 6).\n",
    "2,4,4,5,99,0 becomes 2,4,4,5,99,9801 (99 * 99 = 9801).\n",
    "1,1,1,4,99,5,6,0,99 becomes 30,1,1,4,2,5,6,0,99.\n",
    "Once you have a working computer, the first step is to restore the gravity assist program (your puzzle input) to the \"1202 program alarm\" state it had just before the last computer caught fire. To do this, before running the program, replace position 1 with the value 12 and replace position 2 with the value 2. What value is left at position 0 after the program halts?"
   ]
  },
  {
   "cell_type": "code",
   "execution_count": 89,
   "metadata": {},
   "outputs": [
    {
     "name": "stdout",
     "output_type": "stream",
     "text": [
      "[1, 12, 2, 3, 1, 1, 2, 3, 1, 3, 4, 3, 1, 5, 0, 3, 2, 1, 6, 19, 1, 19, 5, 23, 2, 13, 23, 27, 1, 10, 27, 31, 2, 6, 31, 35, 1, 9, 35, 39, 2, 10, 39, 43, 1, 43, 9, 47, 1, 47, 9, 51, 2, 10, 51, 55, 1, 55, 9, 59, 1, 59, 5, 63, 1, 63, 6, 67, 2, 6, 67, 71, 2, 10, 71, 75, 1, 75, 5, 79, 1, 9, 79, 83, 2, 83, 10, 87, 1, 87, 6, 91, 1, 13, 91, 95, 2, 10, 95, 99, 1, 99, 6, 103, 2, 13, 103, 107, 1, 107, 2, 111, 1, 111, 9, 0, 99, 2, 14, 0, 0]\n"
     ]
    }
   ],
   "source": [
    "with open('./data/2a.txt', 'r') as f:\n",
    "    for line in f:\n",
    "        raw_intcode = [int(x) for x in line.split(',')]\n",
    "\n",
    "def turn_back_time(noun=None, verb=None, intcode=None):\n",
    "    \"\"\"Once you have a working computer, the first step is to restore the gravity \n",
    "    assist program (your puzzle input) to the \"1202 program alarm\" state it had \n",
    "    just before the last computer caught fire. To do this, before running the \n",
    "    program, replace position 1 with the value 12 and replace position 2 with \n",
    "    the value 2.\n",
    "    \n",
    "    the language [noun, verb] are used in part b\"\"\"\n",
    "    if intcode is None:\n",
    "        intcode = raw_intcode.copy()\n",
    "    if noun is not None:\n",
    "        intcode[1] = noun\n",
    "    if verb is not None:\n",
    "        intcode[2] = verb\n",
    "    return intcode\n",
    "\n",
    "intcode = turn_back_time(12, 2)\n",
    "\n",
    "print(intcode)"
   ]
  },
  {
   "cell_type": "code",
   "execution_count": 90,
   "metadata": {},
   "outputs": [
    {
     "data": {
      "text/plain": [
       "2692315"
      ]
     },
     "execution_count": 90,
     "metadata": {},
     "output_type": "execute_result"
    }
   ],
   "source": [
    "def single_code(i, intcode, halt=False):\n",
    "    \"\"\"given a starting index: i\n",
    "    Examine a block of 4 adjacent numbers: x, a, b, c (from the input list: intcode)\n",
    "    when x==1, replace the intcode[c] with the sum of the numbers in positions a & b\n",
    "    when x==2, replace the intcode[c] with the product of the numbers in positions a & b\n",
    "    the first time we see x==99, immediately halt the whole process.\n",
    "    \n",
    "    return the tuple: (intcode, halt_status)\n",
    "    \"\"\"\n",
    "    x, a, b, c = intcode[i: i+4]\n",
    "    if x == 1:\n",
    "        intcode[c] = intcode[a] + intcode[b]\n",
    "    elif x == 2:\n",
    "        intcode[c] = intcode[a] * intcode[b]\n",
    "    elif x == 99:\n",
    "        halt = True\n",
    "    return intcode, halt\n",
    "\n",
    "\n",
    "def process_intcode(intcode, jump=4):\n",
    "    \"\"\"iterate through intcode, applying single_code() to each block of width=jump\n",
    "    Immediately stop if we see code '99' as the first number in a block\n",
    "    \"\"\"\n",
    "    for i in range(0, len(intcode), jump):\n",
    "        intcode, halt = single_code(i, intcode)\n",
    "        if halt:\n",
    "            break\n",
    "    return intcode[0]\n",
    "\n",
    "\n",
    "process_intcode(intcode)"
   ]
  },
  {
   "cell_type": "markdown",
   "metadata": {},
   "source": [
    "### Day 2: part two\n",
    "\"Good, the new computer seems to be working correctly! Keep it nearby during this mission - you'll probably use it again. Real Intcode computers support many more features than your new one, but we'll let you know what they are as you need them.\"\n",
    "\n",
    "\"However, your current priority should be to complete your gravity assist around the Moon. For this mission to succeed, we should settle on some terminology for the parts you've already built.\"\n",
    "\n",
    "Intcode programs are given as a list of integers; these values are used as the initial state for the computer's memory. When you run an Intcode program, make sure to start by initializing memory to the program's values. A position in memory is called an address (for example, the first value in memory is at \"address 0\").\n",
    "\n",
    "Opcodes (like 1, 2, or 99) mark the beginning of an instruction. The values used immediately after an opcode, if any, are called the instruction's parameters. For example, in the instruction 1,2,3,4, 1 is the opcode; 2, 3, and 4 are the parameters. The instruction 99 contains only an opcode and has no parameters.\n",
    "\n",
    "The address of the current instruction is called the instruction pointer; it starts at 0. After an instruction finishes, the instruction pointer increases by the number of values in the instruction; until you add more instructions to the computer, this is always 4 (1 opcode + 3 parameters) for the add and multiply instructions. (The halt instruction would increase the instruction pointer by 1, but it halts the program instead.)\n",
    "\n",
    "\"With terminology out of the way, we're ready to proceed. To complete the gravity assist, you need to determine what pair of inputs produces the output 19690720.\"\n",
    "\n",
    "The inputs should still be provided to the program by replacing the values at addresses 1 and 2, just like before. In this program, the value placed in address 1 is called the noun, and the value placed in address 2 is called the verb. Each of the two input values will be between 0 and 99, inclusive.\n",
    "\n",
    "Once the program has halted, its output is available at address 0, also just like before. Each time you try a pair of inputs, make sure you first reset the computer's memory to the values in the program (your puzzle input) - in other words, don't reuse memory from a previous attempt.\n",
    "\n",
    "Find the input noun and verb that cause the program to produce the output 19690720. What is 100 * noun + verb? (For example, if noun=12 and verb=2, the answer would be 1202.)"
   ]
  },
  {
   "cell_type": "code",
   "execution_count": 91,
   "metadata": {},
   "outputs": [
    {
     "name": "stdout",
     "output_type": "stream",
     "text": [
      "Match found using inputs: 95, 7\n",
      "Final Answer is: 9507\n"
     ]
    }
   ],
   "source": [
    "target = 19690720\n",
    "\n",
    "for i in range(99):\n",
    "    for j in range(99):\n",
    "        intcode = turn_back_time(i, j)\n",
    "        if process_intcode(intcode) == target:\n",
    "            print(f'Match found using inputs: {i}, {j}')\n",
    "            print(f'Final Answer is: {100*i + j}')\n",
    "            break"
   ]
  },
  {
   "cell_type": "markdown",
   "metadata": {},
   "source": [
    "# --- Day 3: Crossed Wires ---\n",
    "The gravity assist was successful, and you're well on your way to the Venus refuelling station. During the rush back on Earth, the fuel management system wasn't completely installed, so that's next on the priority list.\n",
    "\n",
    "Opening the front panel reveals a jumble of wires. Specifically, two wires are connected to a central port and extend outward on a grid. You trace the path each wire takes as it leaves the central port, one wire per line of text (your puzzle input).\n",
    "\n",
    "The wires twist and turn, but the two wires occasionally cross paths. To fix the circuit, you need to find the intersection point closest to the central port. Because the wires are on a grid, use the Manhattan distance for this measurement. While the wires do technically cross right at the central port where they both start, this point does not count, nor does a wire count as crossing with itself."
   ]
  },
  {
   "cell_type": "code",
   "execution_count": 22,
   "metadata": {},
   "outputs": [],
   "source": [
    "wire_paths = []\n",
    "with open('./data/3a.txt', 'r') as f:\n",
    "    for line in f:\n",
    "        wire_paths.append(line.strip().split(','))\n",
    "\n",
    "a_paths, b_paths = wire_paths"
   ]
  },
  {
   "cell_type": "code",
   "execution_count": 20,
   "metadata": {},
   "outputs": [],
   "source": [
    "# test0 = '''R8,U5,L5,D3\n",
    "# U7,R6,D4,L4'''\n",
    "\n",
    "# test1 = \"\"\"R75,D30,R83,U83,L12,D49,R71,U7,L72\n",
    "# U62,R66,U55,R34,D71,R55,D58,R83\"\"\"\n",
    "\n",
    "# test2 = \"\"\"R98,U47,R26,D63,R33,U87,L62,D20,R33,U53,R51\n",
    "# U98,R91,D20,R16,D67,R40,U7,R15,U6,R7\"\"\"\n",
    "\n",
    "# test = [x.split(',') for x in test1.split('\\n')]\n",
    "# a_paths, b_paths = test"
   ]
  },
  {
   "cell_type": "code",
   "execution_count": 25,
   "metadata": {},
   "outputs": [
    {
     "data": {
      "text/plain": [
       "248"
      ]
     },
     "execution_count": 25,
     "metadata": {},
     "output_type": "execute_result"
    }
   ],
   "source": [
    "def all_seen(paths):\n",
    "    a = [0, 0]\n",
    "    seen = set()\n",
    "    \n",
    "    for path in paths:\n",
    "        a_start = a[:]    \n",
    "        _dir, delta = path[0], int(path[1:])\n",
    "        if _dir == 'R':\n",
    "            while a[0] < a_start[0] + delta:\n",
    "                a = (a[0] + 1, a[1])\n",
    "                seen.add(a)\n",
    "        if _dir == 'L':\n",
    "            while a[0] > a_start[0] - delta:\n",
    "                a = (a[0] - 1, a[1])\n",
    "                seen.add(a)\n",
    "        if _dir == 'U':\n",
    "            while a[1] < a_start[1] + delta:\n",
    "                a = (a[0], a[1] + 1)\n",
    "                seen.add(a)\n",
    "        if _dir == 'D':\n",
    "            while a[1] > a_start[1] - delta:\n",
    "                a = (a[0], a[1] - 1)\n",
    "                seen.add(a)\n",
    "    return seen\n",
    "\n",
    "\n",
    "def shared_seen(a_paths=a_paths, b_paths=b_paths):\n",
    "    return list(all_seen(a_paths).intersection(all_seen(b_paths)))\n",
    "\n",
    "\n",
    "sum(min(shared_seen(), key=lambda x: abs(x[0])+abs(x[1])))"
   ]
  },
  {
   "cell_type": "code",
   "execution_count": null,
   "metadata": {},
   "outputs": [],
   "source": []
  }
 ],
 "metadata": {
  "kernelspec": {
   "display_name": "Python 3",
   "language": "python",
   "name": "python3"
  },
  "language_info": {
   "codemirror_mode": {
    "name": "ipython",
    "version": 3
   },
   "file_extension": ".py",
   "mimetype": "text/x-python",
   "name": "python",
   "nbconvert_exporter": "python",
   "pygments_lexer": "ipython3",
   "version": "3.7.5"
  }
 },
 "nbformat": 4,
 "nbformat_minor": 4
}
